{
 "cells": [
  {
   "cell_type": "markdown",
   "metadata": {},
   "source": [
    "## Importing Required Dependencies"
   ]
  },
  {
   "cell_type": "code",
   "execution_count": null,
   "metadata": {},
   "outputs": [],
   "source": [
    "import torch\n",
    "import pandas as pd\n",
    "from transformers import AutoTokenizer, AutoModelForSequenceClassification, Trainer, TrainingArguments\n",
    "from datasets import Dataset\n",
    "import numpy as np\n",
    "from sklearn.metrics import accuracy_score, roc_auc_score\n",
    "from fastapi import FastAPI\n",
    "import os"
   ]
  },
  {
   "cell_type": "markdown",
   "metadata": {},
   "source": [
    "## Reading Data\n",
    "\n",
    "Using minimal data since it'd take a lot of time."
   ]
  },
  {
   "cell_type": "code",
   "execution_count": 7,
   "metadata": {},
   "outputs": [],
   "source": [
    "df = pd.read_csv(r\"\\ehr_data.csv\")\n",
    "dataset = Dataset.from_pandas(df)\n",
    "train_dataset = dataset.select(range(800))  # First 800 for training\n",
    "eval_dataset = dataset.select(range(800, 1000))  # Last 200 for evaluation"
   ]
  },
  {
   "cell_type": "markdown",
   "metadata": {},
   "source": [
    "## Loading ClinicalBERT and Tokenizer"
   ]
  },
  {
   "cell_type": "code",
   "execution_count": 8,
   "metadata": {},
   "outputs": [
    {
     "name": "stderr",
     "output_type": "stream",
     "text": [
      "Some weights of BertForSequenceClassification were not initialized from the model checkpoint at emilyalsentzer/Bio_ClinicalBERT and are newly initialized: ['classifier.bias', 'classifier.weight']\n",
      "You should probably TRAIN this model on a down-stream task to be able to use it for predictions and inference.\n"
     ]
    }
   ],
   "source": [
    "model_name = \"emilyalsentzer/Bio_ClinicalBERT\"\n",
    "tokenizer = AutoTokenizer.from_pretrained(model_name)\n",
    "model = AutoModelForSequenceClassification.from_pretrained(model_name, num_labels=2)"
   ]
  },
  {
   "cell_type": "markdown",
   "metadata": {},
   "source": [
    "# Using CPU "
   ]
  },
  {
   "cell_type": "code",
   "execution_count": 9,
   "metadata": {},
   "outputs": [
    {
     "data": {
      "text/plain": [
       "BertForSequenceClassification(\n",
       "  (bert): BertModel(\n",
       "    (embeddings): BertEmbeddings(\n",
       "      (word_embeddings): Embedding(28996, 768, padding_idx=0)\n",
       "      (position_embeddings): Embedding(512, 768)\n",
       "      (token_type_embeddings): Embedding(2, 768)\n",
       "      (LayerNorm): LayerNorm((768,), eps=1e-12, elementwise_affine=True)\n",
       "      (dropout): Dropout(p=0.1, inplace=False)\n",
       "    )\n",
       "    (encoder): BertEncoder(\n",
       "      (layer): ModuleList(\n",
       "        (0-11): 12 x BertLayer(\n",
       "          (attention): BertAttention(\n",
       "            (self): BertSdpaSelfAttention(\n",
       "              (query): Linear(in_features=768, out_features=768, bias=True)\n",
       "              (key): Linear(in_features=768, out_features=768, bias=True)\n",
       "              (value): Linear(in_features=768, out_features=768, bias=True)\n",
       "              (dropout): Dropout(p=0.1, inplace=False)\n",
       "            )\n",
       "            (output): BertSelfOutput(\n",
       "              (dense): Linear(in_features=768, out_features=768, bias=True)\n",
       "              (LayerNorm): LayerNorm((768,), eps=1e-12, elementwise_affine=True)\n",
       "              (dropout): Dropout(p=0.1, inplace=False)\n",
       "            )\n",
       "          )\n",
       "          (intermediate): BertIntermediate(\n",
       "            (dense): Linear(in_features=768, out_features=3072, bias=True)\n",
       "            (intermediate_act_fn): GELUActivation()\n",
       "          )\n",
       "          (output): BertOutput(\n",
       "            (dense): Linear(in_features=3072, out_features=768, bias=True)\n",
       "            (LayerNorm): LayerNorm((768,), eps=1e-12, elementwise_affine=True)\n",
       "            (dropout): Dropout(p=0.1, inplace=False)\n",
       "          )\n",
       "        )\n",
       "      )\n",
       "    )\n",
       "    (pooler): BertPooler(\n",
       "      (dense): Linear(in_features=768, out_features=768, bias=True)\n",
       "      (activation): Tanh()\n",
       "    )\n",
       "  )\n",
       "  (dropout): Dropout(p=0.1, inplace=False)\n",
       "  (classifier): Linear(in_features=768, out_features=2, bias=True)\n",
       ")"
      ]
     },
     "execution_count": 9,
     "metadata": {},
     "output_type": "execute_result"
    }
   ],
   "source": [
    "device = torch.device(\"cpu\")\n",
    "model.to(device)"
   ]
  },
  {
   "cell_type": "markdown",
   "metadata": {},
   "source": [
    "## Preprocessing"
   ]
  },
  {
   "cell_type": "code",
   "execution_count": 5,
   "metadata": {},
   "outputs": [],
   "source": [
    "# Preprocessing Function\n",
    "def preprocess_function(examples):\n",
    "    return tokenizer(\n",
    "        examples[\"note\"],\n",
    "        truncation=True,\n",
    "        padding=\"max_length\",\n",
    "        max_length=512,\n",
    "        return_tensors=\"pt\"\n",
    "    )"
   ]
  },
  {
   "cell_type": "code",
   "execution_count": 6,
   "metadata": {},
   "outputs": [
    {
     "data": {
      "application/vnd.jupyter.widget-view+json": {
       "model_id": "840de9b8c5294582a22b1e16c50daebb",
       "version_major": 2,
       "version_minor": 0
      },
      "text/plain": [
       "Map:   0%|          | 0/800 [00:00<?, ? examples/s]"
      ]
     },
     "metadata": {},
     "output_type": "display_data"
    },
    {
     "data": {
      "application/vnd.jupyter.widget-view+json": {
       "model_id": "308ae9ee82874ccb9983a0787a41c712",
       "version_major": 2,
       "version_minor": 0
      },
      "text/plain": [
       "Map:   0%|          | 0/200 [00:00<?, ? examples/s]"
      ]
     },
     "metadata": {},
     "output_type": "display_data"
    }
   ],
   "source": [
    "# Applying preprocessing\n",
    "encoded_train = train_dataset.map(preprocess_function, batched=True, remove_columns=[\"note\"])\n",
    "encoded_eval = eval_dataset.map(preprocess_function, batched=True, remove_columns=[\"note\"])"
   ]
  },
  {
   "cell_type": "code",
   "execution_count": 7,
   "metadata": {},
   "outputs": [],
   "source": [
    "# Renaming 'label' to 'labels'\n",
    "encoded_train = encoded_train.rename_column(\"label\", \"labels\")\n",
    "encoded_eval = encoded_eval.rename_column(\"label\", \"labels\")\n",
    "\n",
    "# Defining Metrics\n",
    "def compute_metrics(eval_pred):\n",
    "    logits, labels = eval_pred\n",
    "    predictions = np.argmax(logits, axis=-1)\n",
    "    acc = accuracy_score(labels, predictions)\n",
    "    auc = roc_auc_score(labels, logits[:, 1])\n",
    "    return {\"accuracy\": acc, \"auc\": auc}"
   ]
  },
  {
   "cell_type": "markdown",
   "metadata": {},
   "source": [
    "## Training Arguments for CPU "
   ]
  },
  {
   "cell_type": "code",
   "execution_count": 8,
   "metadata": {},
   "outputs": [],
   "source": [
    "output_dir=\"C:\\Users\\\"\n",
    "logging_dir= \"C:\\Users\\\""
   ]
  },
  {
   "cell_type": "code",
   "execution_count": null,
   "metadata": {},
   "outputs": [],
   "source": [
    "training_args = TrainingArguments(\n",
    "    output_dir=output_dir,\n",
    "    num_train_epochs=1,  \n",
    "    per_device_train_batch_size=1,  \n",
    "    per_device_eval_batch_size=1,\n",
    "    warmup_steps=100,  \n",
    "    weight_decay=0.01,\n",
    "    logging_dir=logging_dir,\n",
    "    logging_steps=10,\n",
    "    evaluation_strategy=\"epoch\",\n",
    "    save_strategy=\"epoch\",\n",
    "    load_best_model_at_end=True,\n",
    "    gradient_accumulation_steps=4,  \n",
    "    fp16=False,  # Disableed mixed precision (GPU-only feature)\n",
    ")"
   ]
  },
  {
   "cell_type": "markdown",
   "metadata": {},
   "source": [
    "## Training Model"
   ]
  },
  {
   "cell_type": "code",
   "execution_count": 10,
   "metadata": {},
   "outputs": [],
   "source": [
    "trainer = Trainer(\n",
    "    model=model,\n",
    "    args=training_args,\n",
    "    train_dataset=encoded_train,\n",
    "    eval_dataset=encoded_eval,\n",
    "    compute_metrics=compute_metrics,\n",
    ")"
   ]
  },
  {
   "cell_type": "code",
   "execution_count": 11,
   "metadata": {},
   "outputs": [
    {
     "name": "stdout",
     "output_type": "stream",
     "text": [
      "Starting training...\n"
     ]
    },
    {
     "data": {
      "application/vnd.jupyter.widget-view+json": {
       "model_id": "b181018d83fb455b978f27f452e7d6ab",
       "version_major": 2,
       "version_minor": 0
      },
      "text/plain": [
       "  0%|          | 0/200 [00:00<?, ?it/s]"
      ]
     },
     "metadata": {},
     "output_type": "display_data"
    },
    {
     "name": "stdout",
     "output_type": "stream",
     "text": [
      "{'loss': 0.7067, 'grad_norm': 11.279709815979004, 'learning_rate': 5e-06, 'epoch': 0.05}\n",
      "{'loss': 0.7008, 'grad_norm': 10.616595268249512, 'learning_rate': 1e-05, 'epoch': 0.1}\n",
      "{'loss': 0.7174, 'grad_norm': 9.82299518585205, 'learning_rate': 1.5e-05, 'epoch': 0.15}\n",
      "{'loss': 0.6754, 'grad_norm': 11.688441276550293, 'learning_rate': 2e-05, 'epoch': 0.2}\n",
      "{'loss': 0.708, 'grad_norm': 8.219525337219238, 'learning_rate': 2.5e-05, 'epoch': 0.25}\n",
      "{'loss': 0.7424, 'grad_norm': 4.435360908508301, 'learning_rate': 3e-05, 'epoch': 0.3}\n",
      "{'loss': 0.6821, 'grad_norm': 8.464441299438477, 'learning_rate': 3.5e-05, 'epoch': 0.35}\n",
      "{'loss': 0.6842, 'grad_norm': 7.59079647064209, 'learning_rate': 4e-05, 'epoch': 0.4}\n",
      "{'loss': 0.6851, 'grad_norm': 8.762849807739258, 'learning_rate': 4.5e-05, 'epoch': 0.45}\n",
      "{'loss': 0.6151, 'grad_norm': 3.411376476287842, 'learning_rate': 5e-05, 'epoch': 0.5}\n",
      "{'loss': 0.5605, 'grad_norm': 7.474760055541992, 'learning_rate': 4.5e-05, 'epoch': 0.55}\n",
      "{'loss': 0.6129, 'grad_norm': 8.796977043151855, 'learning_rate': 4e-05, 'epoch': 0.6}\n",
      "{'loss': 0.5859, 'grad_norm': 6.102679252624512, 'learning_rate': 3.5e-05, 'epoch': 0.65}\n",
      "{'loss': 0.4615, 'grad_norm': 2.7506675720214844, 'learning_rate': 3e-05, 'epoch': 0.7}\n",
      "{'loss': 0.9012, 'grad_norm': 16.05014419555664, 'learning_rate': 2.5e-05, 'epoch': 0.75}\n",
      "{'loss': 0.3833, 'grad_norm': 2.8014116287231445, 'learning_rate': 2e-05, 'epoch': 0.8}\n",
      "{'loss': 0.7001, 'grad_norm': 4.761880397796631, 'learning_rate': 1.5e-05, 'epoch': 0.85}\n",
      "{'loss': 0.6532, 'grad_norm': 3.8282992839813232, 'learning_rate': 1e-05, 'epoch': 0.9}\n",
      "{'loss': 0.6938, 'grad_norm': 8.608006477355957, 'learning_rate': 5e-06, 'epoch': 0.95}\n",
      "{'loss': 0.5691, 'grad_norm': 3.3724420070648193, 'learning_rate': 0.0, 'epoch': 1.0}\n"
     ]
    },
    {
     "data": {
      "application/vnd.jupyter.widget-view+json": {
       "model_id": "4872b7a20c4243718821089301607dda",
       "version_major": 2,
       "version_minor": 0
      },
      "text/plain": [
       "  0%|          | 0/200 [00:00<?, ?it/s]"
      ]
     },
     "metadata": {},
     "output_type": "display_data"
    },
    {
     "name": "stdout",
     "output_type": "stream",
     "text": [
      "{'eval_loss': 0.5936597585678101, 'eval_accuracy': 0.75, 'eval_auc': 0.7407910628019323, 'eval_runtime': 320.4492, 'eval_samples_per_second': 0.624, 'eval_steps_per_second': 0.624, 'epoch': 1.0}\n",
      "{'train_runtime': 5137.39, 'train_samples_per_second': 0.156, 'train_steps_per_second': 0.039, 'train_loss': 0.6519443368911744, 'epoch': 1.0}\n",
      "Training completed successfully!\n"
     ]
    }
   ],
   "source": [
    "print(\"Starting training...\")\n",
    "trainer.train()\n",
    "print(\"Training completed successfully!\")"
   ]
  },
  {
   "cell_type": "markdown",
   "metadata": {},
   "source": [
    "## Saving Fine-TUned Model"
   ]
  },
  {
   "cell_type": "code",
   "execution_count": null,
   "metadata": {},
   "outputs": [],
   "source": [
    "model.save_pretrained(r\"\\clinicalbert_readmission_model\")\n",
    "tokenizer.save_pretrained(r\"\\clinicalbert_readmission_model\")"
   ]
  },
  {
   "cell_type": "markdown",
   "metadata": {},
   "source": [
    "## Readmission Risk score"
   ]
  },
  {
   "cell_type": "code",
   "execution_count": 10,
   "metadata": {},
   "outputs": [],
   "source": [
    "# 8. Inference Function\n",
    "def predict_readmission(note, model, tokenizer):\n",
    "    inputs = tokenizer(note, return_tensors=\"pt\", truncation=True, padding=True, max_length=512)\n",
    "    inputs = {k: v.to(device) for k, v in inputs.items()}  # Ensure inputs are on CPU\n",
    "    with torch.no_grad():\n",
    "        outputs = model(**inputs)\n",
    "    probs = torch.softmax(outputs.logits, dim=-1)\n",
    "    risk_score = probs[0][1].item()\n",
    "    return risk_score"
   ]
  },
  {
   "cell_type": "markdown",
   "metadata": {},
   "source": [
    "## Checking Confluence "
   ]
  },
  {
   "cell_type": "code",
   "execution_count": 11,
   "metadata": {},
   "outputs": [],
   "source": [
    "loaded_model = AutoModelForSequenceClassification.from_pretrained(r\"\\clinicalbert_readmission_model\")\n",
    "loaded_model.to(device)\n",
    "loaded_tokenizer = AutoTokenizer.from_pretrained(r\"\\clinicalbert_readmission_model\")"
   ]
  },
  {
   "cell_type": "code",
   "execution_count": 16,
   "metadata": {},
   "outputs": [
    {
     "name": "stdout",
     "output_type": "stream",
     "text": [
      "Readmission Risk Score: 0.801\n"
     ]
    }
   ],
   "source": [
    "# Example prediction\n",
    "clinical_note = \"Asthmatic patient with recent lung tests, non-compliant with meds.\"\n",
    "risk = predict_readmission(clinical_note, loaded_model, loaded_tokenizer)\n",
    "print(f\"Readmission Risk Score: {risk:.3f}\")"
   ]
  },
  {
   "cell_type": "markdown",
   "metadata": {},
   "source": [
    "## Basic FastAPI "
   ]
  },
  {
   "cell_type": "code",
   "execution_count": 19,
   "metadata": {},
   "outputs": [],
   "source": [
    "app = FastAPI()"
   ]
  },
  {
   "cell_type": "code",
   "execution_count": 21,
   "metadata": {},
   "outputs": [],
   "source": [
    "@app.post(\"/predict\")\n",
    "async def predict(note: str):\n",
    "    risk_score = predict_readmission(note, loaded_model, loaded_tokenizer)\n",
    "    return {\n",
    "        \"risk_score\": risk_score,\n",
    "        \"note\": note,\n",
    "        \"interpretation\": \"High risk\" if risk_score > 0.7 else \"Low risk\"\n",
    "    }"
   ]
  }
 ],
 "metadata": {
  "kernelspec": {
   "display_name": "Python 3",
   "language": "python",
   "name": "python3"
  },
  "language_info": {
   "codemirror_mode": {
    "name": "ipython",
    "version": 3
   },
   "file_extension": ".py",
   "mimetype": "text/x-python",
   "name": "python",
   "nbconvert_exporter": "python",
   "pygments_lexer": "ipython3",
   "version": "3.12.2"
  }
 },
 "nbformat": 4,
 "nbformat_minor": 2
}
